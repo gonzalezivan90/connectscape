{
 "cells": [
  {
   "cell_type": "markdown",
   "id": "f5c33943-fa7f-45a0-97b7-08b5d042382d",
   "metadata": {},
   "source": [
    "# CDPOP to Notebook Migration"
   ]
  },
  {
   "cell_type": "markdown",
   "id": "a8f785a6-4bf0-4a07-8ee7-828c063eaa6e",
   "metadata": {},
   "source": [
    "#### Author: Patrick Jantz\n",
    "#### Date: March 9, 2023\n",
    "#### Contact: Patrick.Jantz@nau.edu\n",
    "#### Purpose:\n",
    "CDPOP currently runs from the command line. <br>\n",
    "Running CDPOP from a python notebook should facilitate interactive analysis and lay the groundwork for development of a web application for non-technical users. <br>\n",
    "This script is for testing different approaches for migrating CDPOP to a python notebook and adding desired functionality.\n",
    "\n",
    "#### Notes:\n",
    "Clone CDPOP using Git bash shell or GUI (shell commands below) <br>\n",
    "git clone https://github.com/ComputationalEcologyLab/CDPOP.git <br>\n",
    "Set up an empty repo in Git. e.g. cdpop_nb_migration <br>\n",
    "Change the remote to the repo you just set up <br>\n",
    "git remote add origin https://github.com/forest-rev/cdpop_nb_migration.git <br>\n",
    "git branch -M main <br>\n",
    "git push -u origin main <br>\n",
    "\n",
    "If you specify a full path for the output directory, it will throw an error. <br>\n",
    "OSError: [WinError 123] The filename, directory name, or volume label syntax is incorrect:<br>'C:\\\\Users\\\\pj276\\\\Projects\\\\CDPOP\\\\data/C:\\\\Users\\\\pj276\\\\Projects\\\\CDPOP\\\\output_test1678386843/'\n"
   ]
  },
  {
   "cell_type": "code",
   "execution_count": 1,
   "id": "e4d980cf-955a-4994-bbad-c9afc8bfd72d",
   "metadata": {},
   "outputs": [],
   "source": [
    "# Imports\n",
    "import pandas as pd\n",
    "from ipysheet import from_dataframe, to_dataframe\n"
   ]
  },
  {
   "cell_type": "code",
   "execution_count": 4,
   "id": "89dbc098-5a52-4b67-b59a-d72f552caae5",
   "metadata": {},
   "outputs": [],
   "source": [
    "# Read in csv containing parameters\n",
    "params = pd.read_csv(r\"C:\\Users\\pj276\\Projects\\CDPOP\\data\\inputvars.csv\")"
   ]
  },
  {
   "cell_type": "code",
   "execution_count": 5,
   "id": "b7c56c0a-4921-4cb3-a482-faa797e5ec9f",
   "metadata": {},
   "outputs": [
    {
     "data": {
      "application/vnd.jupyter.widget-view+json": {
       "model_id": "3956edd763e745f6b511c9f7fa97a4a5",
       "version_major": 2,
       "version_minor": 0
      },
      "text/plain": [
       "Sheet(cells=(Cell(column_end=0, column_start=0, numeric_format=None, row_end=2, row_start=0, squeeze_row=False…"
      ]
     },
     "execution_count": 5,
     "metadata": {},
     "output_type": "execute_result"
    }
   ],
   "source": [
    "# Convert to sheet\n",
    "paramsheet = from_dataframe(params)\n",
    "paramsheet\n",
    "# To edit the sheet, double click in the cell of interest and change as needed. *Note, if you rerun this cell, it will revert back to the csv on file."
   ]
  },
  {
   "cell_type": "code",
   "execution_count": 7,
   "id": "f98ba94e-36fc-4c6d-bcef-88bc0de55f90",
   "metadata": {},
   "outputs": [],
   "source": [
    "# If you made changes to the spreadsheet, create an updated data frame and save\n",
    "paramsdf = to_dataframe(paramsheet)"
   ]
  },
  {
   "cell_type": "code",
   "execution_count": 8,
   "id": "9da966f4-08e4-4bdd-b2e4-3c350cfb39db",
   "metadata": {},
   "outputs": [],
   "source": [
    "# Write to file.\n",
    "paramsdf.to_csv(r\"C:\\Users\\pj276\\Projects\\CDPOP\\data\\inputvars_updated.csv\", index=False)"
   ]
  },
  {
   "cell_type": "code",
   "execution_count": 1,
   "id": "1b1e8a47-b71c-487d-9bd0-951af45331b6",
   "metadata": {},
   "outputs": [
    {
     "data": {
      "text/plain": [
       "'C:\\\\Users\\\\pj276\\\\Projects\\\\CDPOP\\\\notebooks'"
      ]
     },
     "execution_count": 1,
     "metadata": {},
     "output_type": "execute_result"
    }
   ],
   "source": [
    "# Check directory\n",
    "%pwd"
   ]
  },
  {
   "cell_type": "code",
   "execution_count": 12,
   "id": "4b154974-dfc6-4d61-b3b3-17fabbcd1ba0",
   "metadata": {},
   "outputs": [
    {
     "name": "stdout",
     "output_type": "stream",
     "text": [
      "C:\\Users\\pj276\\Projects\\CDPOP\\src\n"
     ]
    },
    {
     "data": {
      "text/plain": [
       "'C:\\\\Users\\\\pj276\\\\Projects\\\\CDPOP\\\\src'"
      ]
     },
     "execution_count": 12,
     "metadata": {},
     "output_type": "execute_result"
    }
   ],
   "source": [
    "# Change to CDPOP directory\n",
    "%cd C:\\Users\\pj276\\Projects\\CDPOP\\src\n",
    "%pwd"
   ]
  },
  {
   "cell_type": "code",
   "execution_count": null,
   "id": "14eeb5a4-6e75-4d88-b1d3-43111c29d947",
   "metadata": {},
   "outputs": [],
   "source": [
    "# Input files\n",
    "# Parameter file\n",
    "# inputvars.csv\n",
    "\n",
    "# In parameter file\n",
    "# xyfilename -- xyfiles/xyED16_known_NAs, xyfiles/xyED16_hetmort, xyfiles/xyED16\n",
    "# agefilename -- agevars/Agevars_nonOverlap.csv, agevars/Agevars_nonOverlap.csv, agevars/Agevars_nonOverlap.csv\n",
    "# matecdmat -- cdmats/EDcdmatrix16, cdmats/EDcdmatrix16, cdmats/EDcdmatrix16\n",
    "# dispcdmat -- cdmats/EDcdmatrix16, cdmats/EDcdmatrix16, cdmats/EDcdmatrix16\n",
    "# allefreqfilename -- genefiles/allelefrequencyA, N, genefiles/allelefrequencyC_varAlleles\n"
   ]
  },
  {
   "cell_type": "code",
   "execution_count": 15,
   "id": "037fe443-ba71-4339-aeab-3154482b4fad",
   "metadata": {},
   "outputs": [
    {
     "name": "stdout",
     "output_type": "stream",
     "text": [
      "DoUserInput():  0:00:00 \n",
      "DoPreProcess():  0:00:00.010065 \n",
      "DoCDClimate():  0:00:00 \n",
      "GetMetrics():  0:00:00.009959 \n",
      "DoMate():  0:00:00.002993 \n",
      "DoOffspring():  0:00:00 \n",
      "InheritGenes():  0:00:00.010001 \n",
      "DoAdultMortality():  0:00:00 \n",
      "DoDisperse():  0:00:00.001001 \n",
      "DoOutput():  0:00:00.000997 \n",
      "End Generation Loop 0 :  0:00:00.024951 \n",
      "\n",
      "ReadGrid():  0:00:00 \n",
      "GetMetrics():  0:00:00.000995 \n",
      "DoMate():  0:00:00.002082 \n",
      "DoOffspring():  0:00:00 \n",
      "InheritGenes():  0:00:00.017988 \n",
      "Warning: Female age class exceeds specified class in Agevars.csv file. Recommend 100% mortality for last age class. Grouping these age classes.\n",
      "Warning: Male age class exceeds specified class in Agevars.csv file. Recommend 100% mortality for last age class. Grouping these age classes.\n",
      "DoAdultMortality():  0:00:00 \n",
      "DoDisperse():  0:00:00.001027 \n",
      "DoOutput():  0:00:00.000967 \n",
      "End Generation Loop 1 :  0:00:00.023059 \n",
      "\n",
      "ReadGrid():  0:00:00 \n",
      "GetMetrics():  0:00:00.001025 \n",
      "DoMate():  0:00:00.001996 \n",
      "DoOffspring():  0:00:00 \n",
      "InheritGenes():  0:00:00.012063 \n",
      "Warning: Female age class exceeds specified class in Agevars.csv file. Recommend 100% mortality for last age class. Grouping these age classes.\n",
      "Warning: Male age class exceeds specified class in Agevars.csv file. Recommend 100% mortality for last age class. Grouping these age classes.\n",
      "DoAdultMortality():  0:00:00 \n",
      "DoDisperse():  0:00:00 \n",
      "DoOutput():  0:00:00 \n",
      "End Generation Loop 2 :  0:00:00.015084 \n",
      "\n",
      "ReadGrid():  0:00:00 \n",
      "GetMetrics():  0:00:00.007073 \n",
      "DoMate():  0:00:00 \n",
      "DoOffspring():  0:00:00 \n",
      "InheritGenes():  0:00:00.018689 \n",
      "Warning: Female age class exceeds specified class in Agevars.csv file. Recommend 100% mortality for last age class. Grouping these age classes.\n",
      "Warning: Male age class exceeds specified class in Agevars.csv file. Recommend 100% mortality for last age class. Grouping these age classes.\n",
      "DoAdultMortality():  0:00:00.000999 \n",
      "DoDisperse():  0:00:00 \n",
      "DoOutput():  0:00:00.000997 \n",
      "End Generation Loop 3 :  0:00:00.027758 \n",
      "\n",
      "ReadGrid():  0:00:00 \n",
      "GetMetrics():  0:00:00.000997 \n",
      "DoMate():  0:00:00.001994 \n",
      "DoOffspring():  0:00:00 \n",
      "InheritGenes():  0:00:00.006185 \n",
      "Warning: Female age class exceeds specified class in Agevars.csv file. Recommend 100% mortality for last age class. Grouping these age classes.\n",
      "Warning: Male age class exceeds specified class in Agevars.csv file. Recommend 100% mortality for last age class. Grouping these age classes.\n",
      "DoAdultMortality():  0:00:00 \n",
      "DoDisperse():  0:00:00 \n",
      "DoOutput():  0:00:00 \n",
      "End Generation Loop 4 :  0:00:00.009176 \n",
      "\n",
      "DoPostProcess():  0:00:00 \n",
      "End Monte Carlo Loop 0 :  0:00:00.110093 \n",
      "\n",
      "End Batch Loop 0 :  0:00:00.110093 \n",
      "\n",
      "DoPreProcess():  0:00:00.012146 \n",
      "DoCDClimate():  0:00:00 \n",
      "GetMetrics():  0:00:00.000994 \n",
      "DoMate():  0:00:00.001995 \n",
      "DoOffspring():  0:00:00.000997 \n",
      "InheritGenes():  0:00:00.013666 \n",
      "DoAdultMortality():  0:00:00 \n",
      "DoDisperse():  0:00:00 \n",
      "DoOutput():  0:00:00 \n",
      "End Generation Loop 0 :  0:00:00.017652 \n",
      "\n",
      "ReadGrid():  0:00:00 \n",
      "GetMetrics():  0:00:00.004542 \n",
      "DoMate():  0:00:00 \n",
      "DoOffspring():  0:00:00 \n",
      "InheritGenes():  0:00:00.013799 \n",
      "Warning: Female age class exceeds specified class in Agevars.csv file. Recommend 100% mortality for last age class. Grouping these age classes.\n",
      "Warning: Male age class exceeds specified class in Agevars.csv file. Recommend 100% mortality for last age class. Grouping these age classes.\n",
      "DoAdultMortality():  0:00:00.000998 \n",
      "DoDisperse():  0:00:00 \n",
      "DoOutput():  0:00:00.001967 \n",
      "End Generation Loop 1 :  0:00:00.021306 \n",
      "\n",
      "ReadGrid():  0:00:00 \n",
      "GetMetrics():  0:00:00.001025 \n",
      "DoMate():  0:00:00.001998 \n",
      "DoOffspring():  0:00:00 \n",
      "InheritGenes():  0:00:00.008062 \n",
      "Warning: Female age class exceeds specified class in Agevars.csv file. Recommend 100% mortality for last age class. Grouping these age classes.\n",
      "Warning: Male age class exceeds specified class in Agevars.csv file. Recommend 100% mortality for last age class. Grouping these age classes.\n",
      "DoAdultMortality():  0:00:00 \n",
      "DoDisperse():  0:00:00 \n",
      "DoOutput():  0:00:00 \n",
      "End Generation Loop 2 :  0:00:00.011085 \n",
      "\n",
      "ReadGrid():  0:00:00 \n",
      "GetMetrics():  0:00:00 \n",
      "DoMate():  0:00:00.007618 \n",
      "DoOffspring():  0:00:00 \n",
      "InheritGenes():  0:00:00.005034 \n",
      "Warning: Female age class exceeds specified class in Agevars.csv file. Recommend 100% mortality for last age class. Grouping these age classes.\n",
      "Warning: Male age class exceeds specified class in Agevars.csv file. Recommend 100% mortality for last age class. Grouping these age classes.\n",
      "DoAdultMortality():  0:00:00 \n",
      "DoDisperse():  0:00:00 \n",
      "DoOutput():  0:00:00.005144 \n",
      "End Generation Loop 3 :  0:00:00.017796 \n",
      "\n",
      "ReadGrid():  0:00:00.000998 \n",
      "GetMetrics():  0:00:00 \n",
      "DoMate():  0:00:00.002026 \n",
      "DoOffspring():  0:00:00 \n",
      "InheritGenes():  0:00:00.006950 \n",
      "Warning: Male age class exceeds specified class in Agevars.csv file. Recommend 100% mortality for last age class. Grouping these age classes.\n",
      "DoAdultMortality():  0:00:00.000998 \n",
      "DoDisperse():  0:00:00.000997 \n",
      "DoOutput():  0:00:00.000997 \n",
      "End Generation Loop 4 :  0:00:00.012966 \n",
      "\n",
      "DoPostProcess():  0:00:00.000999 \n",
      "End Monte Carlo Loop 0 :  0:00:00.093950 \n",
      "\n",
      "End Batch Loop 1 :  0:00:00.093950 \n",
      "\n",
      "DoPreProcess():  0:00:00.006159 \n",
      "DoCDClimate():  0:00:00 \n",
      "GetMetrics():  0:00:00 \n",
      "DoMate():  0:00:00.006137 \n",
      "DoOffspring():  0:00:00 \n",
      "InheritGenes():  0:00:00 \n",
      "DoAdultMortality():  0:00:00 \n",
      "DoDisperse():  0:00:00.000997 \n",
      "DoOutput():  0:00:00.000965 \n",
      "End Generation Loop 0 :  0:00:00.008099 \n",
      "\n",
      "ReadGrid():  0:00:00 \n",
      "GetMetrics():  0:00:00 \n",
      "DoMate():  0:00:00.002679 \n",
      "DoOffspring():  0:00:00 \n",
      "InheritGenes():  0:00:00 \n",
      "Warning: Female age class exceeds specified class in Agevars.csv file. Recommend 100% mortality for last age class. Grouping these age classes.\n",
      "Warning: Male age class exceeds specified class in Agevars.csv file. Recommend 100% mortality for last age class. Grouping these age classes.\n",
      "DoAdultMortality():  0:00:00.000996 \n",
      "DoDisperse():  0:00:00 \n",
      "DoOutput():  0:00:00.000996 \n",
      "End Generation Loop 1 :  0:00:00.004671 \n",
      "\n",
      "Population went extinct after generation 1.\n",
      "\n",
      "DoPostProcess():  0:00:00.000997 \n",
      "End Monte Carlo Loop 0 :  0:00:00.019926 \n",
      "\n",
      "End Batch Loop 2 :  0:00:00.019926 \n",
      "\n",
      "Total CDPOP Simulation Time:  0:00:00.223969 \n"
     ]
    }
   ],
   "source": [
    "# Run test\n",
    "%run CDPOP C:\\Users\\pj276\\Projects\\CDPOP\\data inputvars.csv output_test"
   ]
  },
  {
   "cell_type": "code",
   "execution_count": null,
   "id": "d41d0670-2fc6-4eb0-9cda-9ab956d1081a",
   "metadata": {},
   "outputs": [],
   "source": [
    "# Notes\n",
    "# If you specify a full path for the output directory, it will throw an error\n",
    "# OSError: [WinError 123] The filename, directory name, or volume label syntax is incorrect: 'C:\\\\Users\\\\pj276\\\\Projects\\\\CDPOP\\\\data/C:\\\\Users\\\\pj276\\\\Projects\\\\CDPOP\\\\output_test1678386843/'\n"
   ]
  }
 ],
 "metadata": {
  "kernelspec": {
   "display_name": "Python [conda env:cdujlab] *",
   "language": "python",
   "name": "conda-env-cdujlab-py"
  },
  "language_info": {
   "codemirror_mode": {
    "name": "ipython",
    "version": 3
   },
   "file_extension": ".py",
   "mimetype": "text/x-python",
   "name": "python",
   "nbconvert_exporter": "python",
   "pygments_lexer": "ipython3",
   "version": "3.10.9"
  }
 },
 "nbformat": 4,
 "nbformat_minor": 5
}
